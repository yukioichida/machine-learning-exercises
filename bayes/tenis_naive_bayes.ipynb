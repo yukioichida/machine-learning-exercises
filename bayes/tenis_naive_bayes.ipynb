{
 "cells": [
  {
   "cell_type": "markdown",
   "metadata": {},
   "source": [
    "# Naïve Bayes\n",
    "\n",
    "\\begin{align}\n",
    "p(c_j|x_1, x_2,...,x_m) = \\frac{p(c_j)\\times\\prod_{i=1}^mp(x_i | c_j)}{\\prod_{i=1}^mp(x_i)} \\\\\n",
    "\\end{align}\n",
    "\n",
    "### Carregando os dados em um dataframe"
   ]
  },
  {
   "cell_type": "code",
   "execution_count": 2,
   "metadata": {},
   "outputs": [
    {
     "name": "stdout",
     "output_type": "stream",
     "text": [
      "     Outlook  Temp Humidity  Windy Play\n",
      "0      Sunny   Hot     High  False   No\n",
      "1      Sunny   Hot     High   True   No\n",
      "2   Overcast   Hot     High  False  Yes\n",
      "3      Rainy  Mild     High  False  Yes\n",
      "4      Rainy  Cool   Normal  False  Yes\n",
      "5      Rainy  Cool   Normal   True   No\n",
      "6   Overcast  Cool   Normal   True  Yes\n",
      "7      Sunny  Mild     High  False   No\n",
      "8      Sunny  Cool   Normal  False  Yes\n",
      "9      Rainy  Mild   Normal  False  Yes\n",
      "10     Sunny  Mild   Normal   True  Yes\n",
      "11  Overcast  Mild     High   True  Yes\n",
      "12  Overcast   Hot   Normal  False  Yes\n",
      "13     Rainy  Mild     High   True   No\n"
     ]
    }
   ],
   "source": [
    "import pandas as pd\n",
    "\n",
    "df = pd.read_csv('../datasets/tenis.csv')\n",
    "print(df)"
   ]
  },
  {
   "cell_type": "markdown",
   "metadata": {},
   "source": [
    "### Predizer as probabilidades das classes (jogar tenis ou não)\n",
    "\n",
    "- Atributos do dado a ser estimado/predito:\n",
    "    - **Outlook**: Sunny\n",
    "    - **Temp**: Cool\n",
    "    - **Humidity**: High\n",
    "    - **Windy**: True"
   ]
  },
  {
   "cell_type": "markdown",
   "metadata": {},
   "source": [
    "## *p*(Yes | Sunny, Cool, High, True)"
   ]
  },
  {
   "cell_type": "code",
   "execution_count": 9,
   "metadata": {},
   "outputs": [],
   "source": [
    "qtd_sunny_yes = len(df[(df['Outlook'] == 'Sunny') & (df['Play'] == 'Yes')])\n",
    "qtd_cool_yes = len(df[(df['Temp'] == 'Cool') & (df['Play'] == 'Yes')])\n",
    "qtd_high_yes = len(df[(df['Humidity'] == 'High') & (df['Play'] == 'Yes')])\n",
    "qtd_windy_yes = len(df[(df['Windy'] == True) & (df['Play'] == 'Yes')])\n",
    "qtd_yes = len(df[df['Play'] == 'Yes'])\n",
    "# No\n",
    "qtd_sunny_no = len(df[(df['Outlook'] == 'Sunny') & (df['Play'] == 'No')])\n",
    "qtd_cool_no = len(df[(df['Temp'] == 'Cool') & (df['Play'] == 'No')])\n",
    "qtd_high_no = len(df[(df['Humidity'] == 'High') & (df['Play'] == 'No')])\n",
    "qtd_windy_no = len(df[(df['Windy'] == True) & (df['Play'] == 'No')])\n",
    "qtd_no = len(df[df['Play'] == 'No'])"
   ]
  },
  {
   "cell_type": "markdown",
   "metadata": {},
   "source": [
    "### Assumindo a independência condicional, resultando no produtório das probabilidades"
   ]
  },
  {
   "cell_type": "code",
   "execution_count": 11,
   "metadata": {},
   "outputs": [
    {
     "name": "stdout",
     "output_type": "stream",
     "text": [
      "P(Yes|Outlook = Sunny): 0.222222222222\n",
      "P(Yes|Temp = Cool): 0.333333333333\n",
      "P(Yes|Humidity = High): 0.333333333333\n",
      "P(Yes|Windy = True): 0.333333333333\n",
      "P(Yes): 0.642857142857\n",
      "P(Sunny, Cool, High, True) = 0.0218658892128\n",
      "P(Yes | Sunny, Cool, High, True) = 0.00529100529101\n"
     ]
    }
   ],
   "source": [
    "from __future__ import division\n",
    "\n",
    "p_sunny_yes = qtd_sunny_yes / qtd_yes\n",
    "p_cool_yes = qtd_cool_yes / qtd_yes\n",
    "p_high_yes = qtd_high_yes / qtd_yes\n",
    "p_windy_yes = qtd_windy_yes / qtd_yes\n",
    "p_yes = qtd_yes / len(df)\n",
    "\n",
    "p_sunny = len(df[(df['Outlook'] == 'Sunny')]) / len(df)\n",
    "p_cool = len(df[(df['Temp'] == 'Cool')]) / len(df)\n",
    "p_high = len(df[(df['Humidity'] == 'High')]) / len(df)\n",
    "p_windy = len(df[(df['Windy'] == True)]) / len(df)\n",
    "\n",
    "print(\"P(Yes|Outlook = Sunny): \"+str(p_sunny_yes))\n",
    "print(\"P(Yes|Temp = Cool): \"+str(p_cool_yes))\n",
    "print(\"P(Yes|Humidity = High): \"+str(p_high_yes))\n",
    "print(\"P(Yes|Windy = True): \"+str(p_windy_yes))\n",
    "print(\"P(Yes): \"+str(p_yes))\n",
    "\n",
    "p_sunny_cool_high_true = p_sunny * p_cool * p_high * p_windy\n",
    "\n",
    "p_yes_sunny_cool_high_true = p_sunny_yes * p_cool_yes * p_high_yes * p_windy_yes\n",
    "\n",
    "print (\"P(Sunny, Cool, High, True) = \" + str(p_sunny_cool_high_true))\n",
    "print (\"P(Yes | Sunny, Cool, High, True) = \" + str(p_yes_sunny_cool_high_true * p_yes))"
   ]
  },
  {
   "cell_type": "markdown",
   "metadata": {},
   "source": []
  }
 ],
 "metadata": {
  "anaconda-cloud": {},
  "kernelspec": {
   "display_name": "Python 2",
   "language": "python",
   "name": "python2"
  },
  "language_info": {
   "codemirror_mode": {
    "name": "ipython",
    "version": 2
   },
   "file_extension": ".py",
   "mimetype": "text/x-python",
   "name": "python",
   "nbconvert_exporter": "python",
   "pygments_lexer": "ipython2",
   "version": "2.7.14"
  }
 },
 "nbformat": 4,
 "nbformat_minor": 1
}
