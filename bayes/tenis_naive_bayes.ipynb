{
 "cells": [
  {
   "cell_type": "markdown",
   "metadata": {},
   "source": [
    "# Naïve Bayes\n",
    "\n",
    "\\begin{align}\n",
    "p(c_j|x_1, x_2,...,x_m) = \\frac{p(c_j)\\times\\prod_{i=1}^mp(x_i | c_j)}{\\prod_{i=1}^mp(x_i)} \\\\\n",
    "\\end{align}\n",
    "\n",
    "### Carregando os dados em um dataframe"
   ]
  },
  {
   "cell_type": "code",
   "execution_count": 2,
   "metadata": {
    "collapsed": false
   },
   "outputs": [
    {
     "name": "stdout",
     "output_type": "stream",
     "text": [
      "     Outlook  Temp Humidity  Windy Play\n",
      "0      Sunny   Hot     High  False   No\n",
      "1      Sunny   Hot     High   True   No\n",
      "2   Overcast   Hot     High  False  Yes\n",
      "3      Rainy  Mild     High  False  Yes\n",
      "4      Rainy  Cool   Normal  False  Yes\n",
      "5      Rainy  Cool   Normal   True   No\n",
      "6   Overcast  Cool   Normal   True  Yes\n",
      "7      Sunny  Mild     High  False   No\n",
      "8      Sunny  Cool   Normal  False  Yes\n",
      "9      Rainy  Mild   Normal  False  Yes\n",
      "10     Sunny  Mild   Normal   True  Yes\n",
      "11  Overcast  Mild     High   True  Yes\n",
      "12  Overcast   Hot   Normal  False  Yes\n",
      "13     Rainy  Mild     High   True   No\n"
     ]
    }
   ],
   "source": [
    "import pandas as pd\n",
    "\n",
    "df = pd.read_csv('../datasets/tenis.csv')\n",
    "print(df)"
   ]
  },
  {
   "cell_type": "markdown",
   "metadata": {},
   "source": [
    "### Predizer as probabilidades das classes (jogar tenis ou não)"
   ]
  },
  {
   "cell_type": "markdown",
   "metadata": {},
   "source": []
  },
  {
   "cell_type": "code",
   "execution_count": null,
   "metadata": {
    "collapsed": true
   },
   "outputs": [],
   "source": []
  }
 ],
 "metadata": {
  "anaconda-cloud": {},
  "kernelspec": {
   "display_name": "Python [default]",
   "language": "python",
   "name": "python3"
  },
  "language_info": {
   "codemirror_mode": {
    "name": "ipython",
    "version": 3
   },
   "file_extension": ".py",
   "mimetype": "text/x-python",
   "name": "python",
   "nbconvert_exporter": "python",
   "pygments_lexer": "ipython3",
   "version": "3.5.2"
  }
 },
 "nbformat": 4,
 "nbformat_minor": 1
}
