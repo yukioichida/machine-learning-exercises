{
 "cells": [
  {
   "cell_type": "markdown",
   "metadata": {},
   "source": [
    "# Bayesian Learning"
   ]
  },
  {
   "cell_type": "markdown",
   "metadata": {},
   "source": [
    "### Carregando os dados em um dataframe"
   ]
  },
  {
   "cell_type": "code",
   "execution_count": 13,
   "metadata": {
    "collapsed": false
   },
   "outputs": [
    {
     "name": "stdout",
     "output_type": "stream",
     "text": [
      "      name gender\n",
      "0     Drew      M\n",
      "1  Claudia      F\n",
      "2     Drew      F\n",
      "3     Drew      F\n",
      "4  Alberto      M\n",
      "5    Karin      F\n",
      "6     Nina      F\n",
      "7   Sergio      M\n"
     ]
    }
   ],
   "source": [
    "import pandas as pd\n",
    "\n",
    "df = pd.read_csv('../datasets/cops.csv')\n",
    "\n",
    "print(df)"
   ]
  },
  {
   "cell_type": "markdown",
   "metadata": {},
   "source": [
    "### Pegando as contagens"
   ]
  },
  {
   "cell_type": "code",
   "execution_count": 21,
   "metadata": {
    "collapsed": false
   },
   "outputs": [
    {
     "name": "stdout",
     "output_type": "stream",
     "text": [
      "Quantidade de registros 8\n",
      "Quantidade de pessoas do sexo F: 5\n",
      "Quantidade de pessoas do sexo M: 3\n",
      "Quantidade de pessoas com o nome de Drew: 3\n",
      "Quantidade de pessoas com o nome de Drew do sexo F: 2\n",
      "Quantidade de pessoas com o nome de Drew do sexo M: 1\n"
     ]
    }
   ],
   "source": [
    "size = len(df)\n",
    "f_size = len(df[df['gender']=='F'])\n",
    "m_size = len(df[df['gender']=='M'])\n",
    "drew_size = len(df[df['name']=='Drew'])\n",
    "drew_m_size = len(df[(df['name'] == 'Drew') & (df['gender'] == 'M')])\n",
    "drew_f_size = len(df[(df['name'] == 'Drew') & (df['gender'] == 'F')])\n",
    "\n",
    "print(\"Quantidade de registros \"+str(size))\n",
    "print(\"Quantidade de pessoas do sexo F: \"+str(f_size))\n",
    "print(\"Quantidade de pessoas do sexo M: \"+str(m_size))\n",
    "print(\"Quantidade de pessoas com o nome de Drew: \"+str(drew_size))\n",
    "print(\"Quantidade de pessoas com o nome de Drew do sexo F: \"+str(drew_f_size))\n",
    "print(\"Quantidade de pessoas com o nome de Drew do sexo M: \"+str(drew_m_size))"
   ]
  },
  {
   "cell_type": "markdown",
   "metadata": {},
   "source": [
    "### Calculando as probabilidades de ambos os sexos\n",
    "- *p*(drew|gender)\n",
    "- *p*(gender)\n",
    "- *p*(drew)"
   ]
  },
  {
   "cell_type": "code",
   "execution_count": 26,
   "metadata": {
    "collapsed": false
   },
   "outputs": [
    {
     "name": "stdout",
     "output_type": "stream",
     "text": [
      "Probabilidade de alguém ser drew, dado que o sexo é F: 0.4\n",
      "Probabilidade de alguém ser do sexo F: 0.625\n",
      "\n",
      "\n",
      "Probabilidade de alguém ser drew, dado que o sexo é M: 0.3333333333333333\n",
      "Probabilidade de alguém ser do sexo M: 0.375\n",
      "\n",
      "\n",
      "Probabilidade de alguém ter o nome de Drew: 0.375\n"
     ]
    }
   ],
   "source": [
    "p_drew_f = drew_f_size/f_size\n",
    "p_f = f_size/size\n",
    "p_drew = drew_size/size\n",
    "\n",
    "p_drew_m = drew_m_size/m_size\n",
    "p_m = m_size/size\n",
    "\n",
    "print(\"Probabilidade de alguém ser drew, dado que o sexo é F: \"+str(p_drew_f))\n",
    "print(\"Probabilidade de alguém ser do sexo F: \"+str(p_f))\n",
    "print(\"\\n\")\n",
    "print(\"Probabilidade de alguém ser drew, dado que o sexo é M: \"+str(p_drew_m))\n",
    "print(\"Probabilidade de alguém ser do sexo M: \"+str(p_m))\n",
    "print(\"\\n\")\n",
    "print(\"Probabilidade de alguém ter o nome de Drew: \"+str(p_drew))"
   ]
  },
  {
   "cell_type": "markdown",
   "metadata": {},
   "source": [
    "### Comparando as chances:\n",
    "- De alguém do sexo feminino e masculino se chamar Drew\n",
    "    - p(fem|drew)\n",
    "    - p(masc|drew)"
   ]
  },
  {
   "cell_type": "code",
   "execution_count": 28,
   "metadata": {
    "collapsed": false
   },
   "outputs": [
    {
     "name": "stdout",
     "output_type": "stream",
     "text": [
      "Probabilidade de alguém ser do sexo Feminino, dado que seu nome é Drew:\n",
      "0.6666666666666666\n",
      "\n",
      "\n",
      "Probabilidade de alguém ser do sexo Masculino, dado que seu nome é Drew:\n",
      "0.3333333333333333\n"
     ]
    }
   ],
   "source": [
    "p_f_drew = (p_drew_f * p_f)/p_drew\n",
    "p_m_drew = (p_drew_m * p_m)/p_drew\n",
    "\n",
    "print(\"Probabilidade de alguém ser do sexo Feminino, dado que seu nome é Drew:\")\n",
    "print(p_f_drew)\n",
    "print(\"\\n\")\n",
    "print(\"Probabilidade de alguém ser do sexo Masculino, dado que seu nome é Drew:\")\n",
    "print(p_m_drew)"
   ]
  },
  {
   "cell_type": "markdown",
   "metadata": {},
   "source": [
    "#### Como é mais provável que alguém do sexo Feminino se chame Drew, predizemos que Drew é uma mulher"
   ]
  }
 ],
 "metadata": {
  "anaconda-cloud": {},
  "kernelspec": {
   "display_name": "Python [default]",
   "language": "python",
   "name": "python3"
  },
  "language_info": {
   "codemirror_mode": {
    "name": "ipython",
    "version": 3
   },
   "file_extension": ".py",
   "mimetype": "text/x-python",
   "name": "python",
   "nbconvert_exporter": "python",
   "pygments_lexer": "ipython3",
   "version": "3.5.2"
  }
 },
 "nbformat": 4,
 "nbformat_minor": 1
}
